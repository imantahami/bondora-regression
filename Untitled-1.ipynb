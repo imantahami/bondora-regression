{
 "cells": [
  {
   "cell_type": "code",
   "execution_count": null,
   "id": "128f7eb5",
   "metadata": {},
   "outputs": [],
   "source": []
  }
 ],
 "metadata": {
  "language_info": {
   "name": "python"
  },
  "vincent": {
   "sessionId": "63fffa459103b48e73d23dd1_2025-06-28T12-00-59-329Z"
  }
 },
 "nbformat": 4,
 "nbformat_minor": 5
}
