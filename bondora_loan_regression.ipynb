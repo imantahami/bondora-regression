{
 "cells": [
  {
   "cell_type": "code",
   "execution_count": null,
   "id": "f04a406a",
   "metadata": {
    "cellUniqueIdByVincent": "d00c0"
   },
   "outputs": [],
   "source": [
    "import pandas as pd\n",
    "import matplotlib.pyplot as plt\n",
    "import seaborn as sns\n",
    "import statsmodels.api as sm\n",
    "\n",
    "# Load the dataset\n",
    "df_raw = pd.read_csv(\"LoanData.csv\")\n",
    "\n",
    "# Define relevant columns\n",
    "selected_columns = [\n",
    "    \"LoanId\",\n",
    "    \"NewCreditCustomer\",\n",
    "    \"LoanDate\",\n",
    "    \"VerificationType\",\n",
    "    \"Age\",\n",
    "    \"Gender\",\n",
    "    \"Country\",\n",
    "    \"AppliedAmount\",\n",
    "    \"Amount\",\n",
    "    \"Interest\",\n",
    "    \"LoanDuration\",\n",
    "    \"Education\",\n",
    "    \"EmploymentDurationCurrentEmployer\",\n",
    "    \"HomeOwnershipType\",\n",
    "    \"IncomeTotal\",\n",
    "    \"ExistingLiabilities\",\n",
    "    \"LiabilitiesTotal\",\n",
    "    \"RefinanceLiabilities\",\n",
    "    \"Rating\",\n",
    "    \"NoOfPreviousLoansBeforeLoan\",\n",
    "    \"AmountOfPreviousLoansBeforeLoan\",\n",
    "    \"PreviousEarlyRepaymentsCountBeforeLoan\"\n",
    "]\n",
    "\n",
    "# Select only the relevant columns\n",
    "df_selected = df_raw[selected_columns].copy()\n",
    "\n",
    "# Handle missing values\n",
    "df_cleaned = df_selected.copy()\n",
    "\n",
    "# Fill categorical columns with mode or specific values\n",
    "df_cleaned['EmploymentDurationCurrentEmployer'].fillna('Unknown', inplace=True)\n",
    "df_cleaned['HomeOwnershipType'].fillna('Other', inplace=True)\n",
    "df_cleaned['Education'].fillna(df_cleaned['Education'].mode()[0], inplace=True)\n",
    "df_cleaned['VerificationType'].fillna('Unknown', inplace=True)\n",
    "df_cleaned['Gender'].fillna(df_cleaned['Gender'].mode()[0], inplace=True)\n",
    "\n",
    "# Fill numerical columns with 0\n",
    "num_cols_to_fill_zero = [\n",
    "    'PreviousEarlyRepaymentsCountBeforeLoan',\n",
    "    'AmountOfPreviousLoansBeforeLoan',\n",
    "    'NoOfPreviousLoansBeforeLoan'\n",
    "]\n",
    "for col in num_cols_to_fill_zero:\n",
    "    df_cleaned[col].fillna(0, inplace=True)\n",
    "\n",
    "# Fill Rating with mode (most common value)\n",
    "df_cleaned['Rating'].fillna(df_cleaned['Rating'].mode()[0], inplace=True)\n",
    "\n",
    "# Preview cleaned data\n",
    "print(df_cleaned.head())\n"
   ]
  },
  {
   "cell_type": "code",
   "execution_count": null,
   "id": "b2b06f22",
   "metadata": {
    "cellUniqueIdByVincent": "79d36"
   },
   "outputs": [],
   "source": [
    "# Find the sample mean and standard deviation of the \"Interest\" column\n",
    "interest_mean = df_cleaned['Interest'].mean()\n",
    "interest_std = df_cleaned['Interest'].std()\n",
    "\n",
    "# Find the number of borrowers that received a smaller \"Amount\" than they applied for\n",
    "num_less_amount = (df_cleaned['Amount'] < df_cleaned['AppliedAmount']).sum()\n",
    "\n",
    "# Find the proportion of each loan rating\n",
    "rating_proportion = df_cleaned['Rating'].value_counts() / len(df_cleaned)\n"
   ]
  },
  {
   "cell_type": "code",
   "execution_count": null,
   "id": "0fe75ad6",
   "metadata": {
    "cellUniqueIdByVincent": "a3121"
   },
   "outputs": [],
   "source": [
    "\n",
    "# print the results\n",
    "print(\"Interest rate mean:\", round(interest_mean, 2))\n",
    "print(\"Interest rate standard deviation:\", round(interest_std,2))\n",
    "print(\"Number of borrowers that received less money than they asked for:\", num_less_amount)\n",
    "print(\"Proportion of loan ratings:\\n\", rating_proportion.sort_index())"
   ]
  },
  {
   "cell_type": "code",
   "execution_count": null,
   "id": "c9c6a22f",
   "metadata": {
    "cellUniqueIdByVincent": "13dca"
   },
   "outputs": [],
   "source": [
    "\n",
    "\n",
    "### START CODE HERE ###\n",
    "\n",
    "# Create the column \"DebtToIncome\"\n",
    "df_cleaned[\"DebtToIncome\"] = df_cleaned[\"Amount\"] / df_cleaned[\"IncomeTotal\"]\n",
    "\n",
    "# Create a new column \"IsRisky\" that is True if the loan is risky\n",
    "df_cleaned[\"IsRisky\"] = (df_cleaned[\"DebtToIncome\"] >= 0.35) & \\\n",
    "    df_cleaned[\"EmploymentDurationCurrentEmployer\"].isin([\"TrialPeriod\", \"UpTo1Year\"])\n",
    "\n",
    "# Calculate the proportion of risky loans\n",
    "risky_proportion = df_cleaned[\"IsRisky\"].sum() / len(df_cleaned)\n",
    "\n",
    "# Calculate the mean interest rate of the risky loans\n",
    "mean_interest_risky = df_cleaned[df_cleaned[\"IsRisky\"]][\"Interest\"].mean()\n",
    "\n",
    "# Calculate the mean interest rate of the non-risky loans\n",
    "mean_interest_non_risky = df_cleaned[~df_cleaned[\"IsRisky\"]][\"Interest\"].mean()\n",
    "\n",
    "\n",
    "### END CODE HERE ###\n"
   ]
  },
  {
   "cell_type": "code",
   "execution_count": null,
   "id": "c8613f57",
   "metadata": {
    "cellUniqueIdByVincent": "79ddd"
   },
   "outputs": [],
   "source": [
    "\n",
    "# print the results\n",
    "print(\"Risky loans proportion:\", round(risky_proportion, 4))\n",
    "print(\"Mean interest rate of risky loans:\", round(mean_interest_risky, 4))\n",
    "print(\"Mean interest rate of non-risky loans:\", round(mean_interest_non_risky, 4))"
   ]
  },
  {
   "cell_type": "code",
   "execution_count": null,
   "id": "eb83e811",
   "metadata": {
    "cellUniqueIdByVincent": "dd694"
   },
   "outputs": [],
   "source": [
    "\n",
    "\n",
    "scatterplot_fig = plt.figure(figsize=(12, 8))\n",
    "\n",
    "# Create a list to store the correlation values\n",
    "correlation = []\n",
    "\n",
    "# List of segmentation columns\n",
    "corr_columns = [\"LoanDuration\", \"IncomeTotal\", \"AmountOfPreviousLoansBeforeLoan\", \n",
    "                \"DebtToIncome\"]\n",
    "\n",
    "### START CODE HERE ###\n",
    "\n",
    "# Iterate over the values 1-4 (one for each subplot)\n",
    "for i in range(1, 5):\n",
    "    # Get the column name\n",
    "    column_name = corr_columns[i - 1]\n",
    "\n",
    "    # Create subplot\n",
    "    ax = scatterplot_fig.add_subplot(2, 2, i)\n",
    "\n",
    "    # Create scatter plot\n",
    "    ax.scatter(df_cleaned[column_name], df_cleaned[\"Interest\"], alpha=0.6, color='royalblue')\n",
    "\n",
    "    # Calculate and store the correlation\n",
    "    corr = df_cleaned[column_name].corr(df_cleaned[\"Interest\"])\n",
    "    correlation.append(corr)\n",
    "\n",
    "    # Set subplot title and labels\n",
    "    ax.set_title(f\"Interest vs {column_name}\")\n",
    "    ax.set_xlabel(column_name)\n",
    "    ax.set_ylabel(\"Interest\")\n",
    "\n",
    "    # Print the result\n",
    "    print(f\"Correlation between Interest Rate and {column_name}:\\n{round(corr, 4)}\") \n",
    "\n",
    "# General title\n",
    "scatterplot_fig.suptitle(\n",
    "    \"Correlation between Interest Rate and Loan Duration, Total Income, \\nAmount of Previous Loans, and Debt-to-Income\",\n",
    "    fontsize=14\n",
    ")\n",
    "\n",
    "### END CODE HERE ###\n",
    "\n",
    "plt.tight_layout()\n",
    "plt.show()\n"
   ]
  },
  {
   "cell_type": "code",
   "execution_count": null,
   "id": "f7240483",
   "metadata": {
    "cellUniqueIdByVincent": "5fd7c"
   },
   "outputs": [],
   "source": [
    "\n",
    "\n",
    "### START CODE HERE ###\n",
    "\n",
    "# Get the number of samples where \"AppliedAmount\" differs from the approved \"Amount\"\n",
    "num_differences = (df_cleaned[\"Amount\"] < df_cleaned[\"AppliedAmount\"]).sum()\n",
    "\n",
    "# Get the total number of samples\n",
    "n = len(df_cleaned)\n",
    "\n",
    "# Calculate the sample proportion\n",
    "phat = num_differences / n\n",
    "\n",
    "# Calculate the standard error for proportions\n",
    "from math import sqrt\n",
    "from scipy import stats\n",
    "\n",
    "se = sqrt(phat * (1 - phat) / n)\n",
    "\n",
    "# Build the 95% confidence interval\n",
    "confidence_interval = stats.norm.interval(0.95, loc=phat, scale=se)\n",
    "\n",
    "### END CODE HERE ###\n"
   ]
  },
  {
   "cell_type": "code",
   "execution_count": null,
   "id": "b16c8a64",
   "metadata": {
    "cellUniqueIdByVincent": "2153c"
   },
   "outputs": [],
   "source": [
    "\n",
    "# print the results\n",
    "print(\"The 95% confidence interval is\", confidence_interval)"
   ]
  },
  {
   "cell_type": "code",
   "execution_count": null,
   "id": "620b6156",
   "metadata": {
    "cellUniqueIdByVincent": "970db"
   },
   "outputs": [],
   "source": [
    "\n",
    "\n",
    "### START CODE HERE ###\n",
    "\n",
    "# Prepare predictors. Don't forget to add the constant term\n",
    "X_simple = sm.add_constant(df_cleaned[[\"AmountOfPreviousLoansBeforeLoan\"]])\n",
    "\n",
    "# Select the dependent variable\n",
    "Y_simple = df_cleaned[\"Interest\"]\n",
    "\n",
    "# Build the model\n",
    "model_simple = sm.OLS(Y_simple, X_simple)\n",
    "\n",
    "# Fit the model\n",
    "results_simple = model_simple.fit()\n",
    "\n",
    "# Print the results summary\n",
    "print(results_simple.summary())\n",
    "\n",
    "### END CODE HERE ###\n"
   ]
  },
  {
   "cell_type": "code",
   "execution_count": null,
   "id": "4a48c961",
   "metadata": {
    "cellUniqueIdByVincent": "337af"
   },
   "outputs": [],
   "source": [
    "plt.figure()\n",
    "sns.scatterplot(data=df_cleaned, x=\"AmountOfPreviousLoansBeforeLoan\", y=\"Interest\")\n",
    "\n",
    "# Plot the regression line\n",
    "plt.plot(df_cleaned[\"AmountOfPreviousLoansBeforeLoan\"], results_simple.predict(X_simple), color=\"red\")\n",
    "\n",
    "# Labels and title\n",
    "plt.title(\"Simple Linear Regression: Line of Best Fit\")\n",
    "plt.xlabel(\"Amount Of Previous Loans Before Loan\")\n",
    "plt.ylabel(\"Interest Rate\")\n",
    "\n",
    "plt.show()\n"
   ]
  },
  {
   "cell_type": "code",
   "execution_count": null,
   "id": "a86d3940",
   "metadata": {
    "cellUniqueIdByVincent": "4233d"
   },
   "outputs": [],
   "source": [
    "\n",
    "\n",
    "### START CODE HERE ###\n",
    "\n",
    "# Define a list with the column names you want to use as predictors\n",
    "# Include numerical and categorical variables\n",
    "predictors = [\n",
    "    \"AppliedAmount\", \"Amount\",\n",
    "    \"IncomeTotal\",\n",
    "    \"ExistingLiabilities\", \"RefinanceLiabilities\",\n",
    "    \"Age\", \"NoOfPreviousLoansBeforeLoan\", \"AmountOfPreviousLoansBeforeLoan\",\n",
    "    \"Education\", \"EmploymentDurationCurrentEmployer\",\n",
    "    \"HomeOwnershipType\", \"Rating\"\n",
    "]\n",
    "\n",
    "categorical = [\n",
    "    \"Education\", \"EmploymentDurationCurrentEmployer\",\n",
    "    \"HomeOwnershipType\", \"Rating\"\n",
    "]\n",
    "\n",
    "# Create the predictors dataframe with dummy variables and constant term\n",
    "X = sm.add_constant(pd.get_dummies(df_cleaned[predictors], columns=categorical, drop_first=True, dtype=float))\n",
    "\n",
    "# Create the target variable\n",
    "Y = df_cleaned[\"Interest\"]\n",
    "\n",
    "# Create and fit the model\n",
    "model = sm.OLS(Y, X)\n",
    "results = model.fit()\n",
    "\n",
    "### END CODE HERE ###\n",
    "\n",
    "print(results.summary())\n"
   ]
  }
 ],
 "metadata": {
  "kernelspec": {
   "display_name": "Python 3",
   "language": "python",
   "name": "python3"
  },
  "language_info": {
   "codemirror_mode": {
    "name": "ipython",
    "version": 3
   },
   "file_extension": ".py",
   "mimetype": "text/x-python",
   "name": "python",
   "nbconvert_exporter": "python",
   "pygments_lexer": "ipython3",
   "version": "3.12.3"
  },
  "vincent": {
   "sessionId": "31743810bd537456140df415_2025-06-27T20-44-31-781Z"
  }
 },
 "nbformat": 4,
 "nbformat_minor": 5
}
